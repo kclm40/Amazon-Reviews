{
 "cells": [
  {
   "cell_type": "code",
   "execution_count": 52,
   "id": "74efce29",
   "metadata": {},
   "outputs": [
    {
     "ename": "FileNotFoundError",
     "evalue": "[Errno 2] No such file or directory: 'models/classifier.sav'",
     "output_type": "error",
     "traceback": [
      "\u001b[0;31m---------------------------------------------------------------------------\u001b[0m",
      "\u001b[0;31mFileNotFoundError\u001b[0m                         Traceback (most recent call last)",
      "Cell \u001b[0;32mIn [52], line 34\u001b[0m\n\u001b[1;32m     31\u001b[0m \u001b[38;5;28;01mfrom\u001b[39;00m \u001b[38;5;21;01msklearn\u001b[39;00m\u001b[38;5;21;01m.\u001b[39;00m\u001b[38;5;21;01mmetrics\u001b[39;00m \u001b[38;5;28;01mimport\u001b[39;00m classification_report\n\u001b[1;32m     33\u001b[0m \u001b[38;5;28;01mimport\u001b[39;00m \u001b[38;5;21;01mpickle\u001b[39;00m\n\u001b[0;32m---> 34\u001b[0m pickle\u001b[38;5;241m.\u001b[39mdump(classifier_linear, \u001b[38;5;28;43mopen\u001b[39;49m\u001b[43m(\u001b[49m\u001b[38;5;124;43m'\u001b[39;49m\u001b[38;5;124;43mmodels/classifier.sav\u001b[39;49m\u001b[38;5;124;43m'\u001b[39;49m\u001b[43m,\u001b[49m\u001b[43m \u001b[49m\u001b[38;5;124;43m'\u001b[39;49m\u001b[38;5;124;43mwb\u001b[39;49m\u001b[38;5;124;43m'\u001b[39;49m\u001b[43m)\u001b[49m)\n\u001b[1;32m     35\u001b[0m pickle\u001b[38;5;241m.\u001b[39mdump(vectorizer, \u001b[38;5;28mopen\u001b[39m(\u001b[38;5;124m'\u001b[39m\u001b[38;5;124mmodels/vectorizer.sav\u001b[39m\u001b[38;5;124m'\u001b[39m, \u001b[38;5;124m'\u001b[39m\u001b[38;5;124mwb\u001b[39m\u001b[38;5;124m'\u001b[39m))\n",
      "File \u001b[0;32m~/miniforge3/envs/PythonData/lib/python3.8/site-packages/IPython/core/interactiveshell.py:282\u001b[0m, in \u001b[0;36m_modified_open\u001b[0;34m(file, *args, **kwargs)\u001b[0m\n\u001b[1;32m    275\u001b[0m \u001b[38;5;28;01mif\u001b[39;00m file \u001b[38;5;129;01min\u001b[39;00m {\u001b[38;5;241m0\u001b[39m, \u001b[38;5;241m1\u001b[39m, \u001b[38;5;241m2\u001b[39m}:\n\u001b[1;32m    276\u001b[0m     \u001b[38;5;28;01mraise\u001b[39;00m \u001b[38;5;167;01mValueError\u001b[39;00m(\n\u001b[1;32m    277\u001b[0m         \u001b[38;5;124mf\u001b[39m\u001b[38;5;124m\"\u001b[39m\u001b[38;5;124mIPython won\u001b[39m\u001b[38;5;124m'\u001b[39m\u001b[38;5;124mt let you open fd=\u001b[39m\u001b[38;5;132;01m{\u001b[39;00mfile\u001b[38;5;132;01m}\u001b[39;00m\u001b[38;5;124m by default \u001b[39m\u001b[38;5;124m\"\u001b[39m\n\u001b[1;32m    278\u001b[0m         \u001b[38;5;124m\"\u001b[39m\u001b[38;5;124mas it is likely to crash IPython. If you know what you are doing, \u001b[39m\u001b[38;5;124m\"\u001b[39m\n\u001b[1;32m    279\u001b[0m         \u001b[38;5;124m\"\u001b[39m\u001b[38;5;124myou can use builtins\u001b[39m\u001b[38;5;124m'\u001b[39m\u001b[38;5;124m open.\u001b[39m\u001b[38;5;124m\"\u001b[39m\n\u001b[1;32m    280\u001b[0m     )\n\u001b[0;32m--> 282\u001b[0m \u001b[38;5;28;01mreturn\u001b[39;00m \u001b[43mio_open\u001b[49m\u001b[43m(\u001b[49m\u001b[43mfile\u001b[49m\u001b[43m,\u001b[49m\u001b[43m \u001b[49m\u001b[38;5;241;43m*\u001b[39;49m\u001b[43margs\u001b[49m\u001b[43m,\u001b[49m\u001b[43m \u001b[49m\u001b[38;5;241;43m*\u001b[39;49m\u001b[38;5;241;43m*\u001b[39;49m\u001b[43mkwargs\u001b[49m\u001b[43m)\u001b[49m\n",
      "\u001b[0;31mFileNotFoundError\u001b[0m: [Errno 2] No such file or directory: 'models/classifier.sav'"
     ]
    }
   ],
   "source": [
    "import pandas as pd\n",
    "from sklearn.model_selection import train_test_split\n",
    "from sklearn.utils import resample\n",
    "from sklearn.feature_extraction.text import CountVectorizer \n",
    "from keras import regularizers\n",
    "import tensorflow as tf\n",
    "import keras\n",
    "from keras.models import Sequential\n",
    "from keras.layers import Dense, Dropout\n",
    "from keras.optimizers import RMSprop\n",
    "from keras.optimizers import Adam, SGD\n",
    "import numpy as np\n",
    "from sklearn.metrics import confusion_matrix\n",
    "from sklearn.metrics import accuracy_score\n",
    "from sklearn.metrics import f1_score\n",
    "from sklearn.metrics import mean_squared_error, accuracy_score, f1_score, roc_auc_score\n",
    "from sklearn import metrics\n",
    "import matplotlib.pyplot as plt\n",
    "from sklearn.metrics import accuracy_score, classification_report, confusion_matrix\n",
    "from sklearn.linear_model import LogisticRegression\n",
    "from sklearn.naive_bayes import MultinomialNB\n",
    "import seaborn as sns\n",
    "%matplotlib inline\n",
    "import random\n",
    "from sklearn.model_selection import GridSearchCV\n",
    "from sklearn.metrics import mean_squared_error, accuracy_score, f1_score,make_scorer\n",
    "from sklearn.feature_extraction.text import TfidfVectorizer\n",
    "\n",
    "import time\n",
    "from sklearn import svm\n",
    "from sklearn.metrics import classification_report\n",
    "\n",
    "import pickle\n",
    "pickle.dump(classifier_linear, open('models/classifier.sav', 'wb'))\n",
    "pickle.dump(vectorizer, open('models/vectorizer.sav', 'wb'))\n"
   ]
  },
  {
   "cell_type": "code",
   "execution_count": 2,
   "id": "79f77004",
   "metadata": {},
   "outputs": [],
   "source": [
    "#read in csv file\n",
    "df = pd.read_csv('Resources/machine_learning.csv')"
   ]
  },
  {
   "cell_type": "code",
   "execution_count": 3,
   "id": "fca25301",
   "metadata": {},
   "outputs": [
    {
     "data": {
      "text/html": [
       "<div>\n",
       "<style scoped>\n",
       "    .dataframe tbody tr th:only-of-type {\n",
       "        vertical-align: middle;\n",
       "    }\n",
       "\n",
       "    .dataframe tbody tr th {\n",
       "        vertical-align: top;\n",
       "    }\n",
       "\n",
       "    .dataframe thead th {\n",
       "        text-align: right;\n",
       "    }\n",
       "</style>\n",
       "<table border=\"1\" class=\"dataframe\">\n",
       "  <thead>\n",
       "    <tr style=\"text-align: right;\">\n",
       "      <th></th>\n",
       "      <th>retailer_id</th>\n",
       "      <th>retailer_name</th>\n",
       "      <th>retailer_sku</th>\n",
       "      <th>Title</th>\n",
       "      <th>Brand</th>\n",
       "      <th>Category</th>\n",
       "      <th>Subcategory</th>\n",
       "      <th>week_id</th>\n",
       "      <th>week_ending</th>\n",
       "      <th>review_date</th>\n",
       "      <th>...</th>\n",
       "      <th>is_verified</th>\n",
       "      <th>has_response</th>\n",
       "      <th>review_text</th>\n",
       "      <th>review_title</th>\n",
       "      <th>reviews_url</th>\n",
       "      <th>Reviewer</th>\n",
       "      <th>combined_text</th>\n",
       "      <th>target</th>\n",
       "      <th>review_breakout</th>\n",
       "      <th>review_length</th>\n",
       "    </tr>\n",
       "  </thead>\n",
       "  <tbody>\n",
       "    <tr>\n",
       "      <th>0</th>\n",
       "      <td>1</td>\n",
       "      <td>Amazon.com</td>\n",
       "      <td>B0735Q681B</td>\n",
       "      <td>SKYN Elite – 36 Count – Ultra-Thin  Lubricated...</td>\n",
       "      <td>SKYN</td>\n",
       "      <td>Sexual Wellness</td>\n",
       "      <td>Condoms</td>\n",
       "      <td>202245</td>\n",
       "      <td>11/12/2022</td>\n",
       "      <td>11/12/2022</td>\n",
       "      <td>...</td>\n",
       "      <td>1</td>\n",
       "      <td>no</td>\n",
       "      <td>Pretty good rubbers. Great for pounding  and ...</td>\n",
       "      <td>Good Rubbers</td>\n",
       "      <td>https://www.amazon.com/gp/customer-reviews/R3A...</td>\n",
       "      <td>Fat Dabs</td>\n",
       "      <td>Pretty good rubbers. Great for pounding  and ...</td>\n",
       "      <td>1</td>\n",
       "      <td>['pretti', 'good', 'rubber', 'pound', 'kind', ...</td>\n",
       "      <td>11</td>\n",
       "    </tr>\n",
       "    <tr>\n",
       "      <th>1</th>\n",
       "      <td>1</td>\n",
       "      <td>Amazon.com</td>\n",
       "      <td>B00WX0RJVS</td>\n",
       "      <td>SKYN Elite Condoms  10 Count (Pack of 1)</td>\n",
       "      <td>SKYN</td>\n",
       "      <td>Sexual Wellness</td>\n",
       "      <td>Condoms</td>\n",
       "      <td>202245</td>\n",
       "      <td>11/12/2022</td>\n",
       "      <td>11/12/2022</td>\n",
       "      <td>...</td>\n",
       "      <td>1</td>\n",
       "      <td>no</td>\n",
       "      <td>They are good  out of the whole box i did hav...</td>\n",
       "      <td>They are good</td>\n",
       "      <td>https://www.amazon.com/gp/customer-reviews/R2M...</td>\n",
       "      <td>Roberto coronado medina</td>\n",
       "      <td>They are good  out of the whole box i did hav...</td>\n",
       "      <td>1</td>\n",
       "      <td>['good', 'whole', 'two', 'rip', 'good']</td>\n",
       "      <td>5</td>\n",
       "    </tr>\n",
       "  </tbody>\n",
       "</table>\n",
       "<p>2 rows × 22 columns</p>\n",
       "</div>"
      ],
      "text/plain": [
       "   retailer_id retailer_name retailer_sku  \\\n",
       "0            1    Amazon.com   B0735Q681B   \n",
       "1            1    Amazon.com   B00WX0RJVS   \n",
       "\n",
       "                                               Title Brand         Category  \\\n",
       "0  SKYN Elite – 36 Count – Ultra-Thin  Lubricated...  SKYN  Sexual Wellness   \n",
       "1           SKYN Elite Condoms  10 Count (Pack of 1)  SKYN  Sexual Wellness   \n",
       "\n",
       "  Subcategory  week_id week_ending review_date  ... is_verified  has_response  \\\n",
       "0     Condoms   202245  11/12/2022  11/12/2022  ...           1            no   \n",
       "1     Condoms   202245  11/12/2022  11/12/2022  ...           1            no   \n",
       "\n",
       "                                         review_text     review_title  \\\n",
       "0   Pretty good rubbers. Great for pounding  and ...    Good Rubbers    \n",
       "1   They are good  out of the whole box i did hav...   They are good    \n",
       "\n",
       "                                         reviews_url                 Reviewer  \\\n",
       "0  https://www.amazon.com/gp/customer-reviews/R3A...                 Fat Dabs   \n",
       "1  https://www.amazon.com/gp/customer-reviews/R2M...  Roberto coronado medina   \n",
       "\n",
       "                                       combined_text target  \\\n",
       "0   Pretty good rubbers. Great for pounding  and ...      1   \n",
       "1   They are good  out of the whole box i did hav...      1   \n",
       "\n",
       "                                     review_breakout  review_length  \n",
       "0  ['pretti', 'good', 'rubber', 'pound', 'kind', ...             11  \n",
       "1            ['good', 'whole', 'two', 'rip', 'good']              5  \n",
       "\n",
       "[2 rows x 22 columns]"
      ]
     },
     "execution_count": 3,
     "metadata": {},
     "output_type": "execute_result"
    }
   ],
   "source": [
    "df.head(2)"
   ]
  },
  {
   "cell_type": "markdown",
   "id": "7ba3a1fe",
   "metadata": {},
   "source": [
    "# Train Test Split"
   ]
  },
  {
   "cell_type": "code",
   "execution_count": 4,
   "id": "c6583e84",
   "metadata": {},
   "outputs": [],
   "source": [
    "#declare inputs and target - analyzing to see if the time of year, brand, subcategory and review length impact ratings\n",
    "inputs=df[['review_breakout','week_ending', 'Brand','Subcategory', 'review_length']]\n",
    "target=df['target']"
   ]
  },
  {
   "cell_type": "code",
   "execution_count": 5,
   "id": "87c53812",
   "metadata": {},
   "outputs": [
    {
     "data": {
      "text/html": [
       "<div>\n",
       "<style scoped>\n",
       "    .dataframe tbody tr th:only-of-type {\n",
       "        vertical-align: middle;\n",
       "    }\n",
       "\n",
       "    .dataframe tbody tr th {\n",
       "        vertical-align: top;\n",
       "    }\n",
       "\n",
       "    .dataframe thead th {\n",
       "        text-align: right;\n",
       "    }\n",
       "</style>\n",
       "<table border=\"1\" class=\"dataframe\">\n",
       "  <thead>\n",
       "    <tr style=\"text-align: right;\">\n",
       "      <th></th>\n",
       "      <th>review_breakout</th>\n",
       "      <th>week_ending</th>\n",
       "      <th>Brand</th>\n",
       "      <th>Subcategory</th>\n",
       "      <th>review_length</th>\n",
       "    </tr>\n",
       "  </thead>\n",
       "  <tbody>\n",
       "    <tr>\n",
       "      <th>268</th>\n",
       "      <td>['cant', 'feel', 'vibrat', 'batteri', 'last', ...</td>\n",
       "      <td>9/3/2022</td>\n",
       "      <td>LifeStyles</td>\n",
       "      <td>Sex Toys</td>\n",
       "      <td>11</td>\n",
       "    </tr>\n",
       "    <tr>\n",
       "      <th>1074</th>\n",
       "      <td>['tight', 'keep', 'eye', 'size', 'condom', 'or...</td>\n",
       "      <td>1/1/2022</td>\n",
       "      <td>SKYN</td>\n",
       "      <td>Condoms</td>\n",
       "      <td>9</td>\n",
       "    </tr>\n",
       "    <tr>\n",
       "      <th>406</th>\n",
       "      <td>['use', 'year', 'buy', 'new', 'pack', 'start',...</td>\n",
       "      <td>7/30/2022</td>\n",
       "      <td>SKYN</td>\n",
       "      <td>Condoms</td>\n",
       "      <td>55</td>\n",
       "    </tr>\n",
       "    <tr>\n",
       "      <th>554</th>\n",
       "      <td>['ladi', 'wast', 'ur', 'money', 'know', 'price...</td>\n",
       "      <td>6/18/2022</td>\n",
       "      <td>SKYN</td>\n",
       "      <td>Performance Enhancers &amp; Stimulants</td>\n",
       "      <td>31</td>\n",
       "    </tr>\n",
       "    <tr>\n",
       "      <th>270</th>\n",
       "      <td>['realli', 'good', 'get', 'amaz']</td>\n",
       "      <td>9/3/2022</td>\n",
       "      <td>SKYN</td>\n",
       "      <td>Condoms</td>\n",
       "      <td>4</td>\n",
       "    </tr>\n",
       "  </tbody>\n",
       "</table>\n",
       "</div>"
      ],
      "text/plain": [
       "                                        review_breakout week_ending  \\\n",
       "268   ['cant', 'feel', 'vibrat', 'batteri', 'last', ...    9/3/2022   \n",
       "1074  ['tight', 'keep', 'eye', 'size', 'condom', 'or...    1/1/2022   \n",
       "406   ['use', 'year', 'buy', 'new', 'pack', 'start',...   7/30/2022   \n",
       "554   ['ladi', 'wast', 'ur', 'money', 'know', 'price...   6/18/2022   \n",
       "270                   ['realli', 'good', 'get', 'amaz']    9/3/2022   \n",
       "\n",
       "           Brand                         Subcategory  review_length  \n",
       "268   LifeStyles                            Sex Toys             11  \n",
       "1074        SKYN                             Condoms              9  \n",
       "406         SKYN                             Condoms             55  \n",
       "554         SKYN  Performance Enhancers & Stimulants             31  \n",
       "270         SKYN                             Condoms              4  "
      ]
     },
     "execution_count": 5,
     "metadata": {},
     "output_type": "execute_result"
    }
   ],
   "source": [
    "#train test split dataset \n",
    "x_train, x_test, y_train, y_test = train_test_split(inputs, target, test_size=.2, random_state=0)\n",
    "x_train.head()"
   ]
  },
  {
   "cell_type": "code",
   "execution_count": 6,
   "id": "5478eb24",
   "metadata": {},
   "outputs": [],
   "source": [
    "# join all strings together for each row \n",
    "review_train=pd.DataFrame(data=[' '.join(x) for x in x_train['review_breakout']])\n",
    "review_test=pd.DataFrame(data=[' '.join(x) for x in x_test['review_breakout']])"
   ]
  },
  {
   "cell_type": "markdown",
   "id": "fbe6f00d",
   "metadata": {},
   "source": [
    "# Check to see if data needs to be resampled"
   ]
  },
  {
   "cell_type": "code",
   "execution_count": 7,
   "id": "ddb1b69d",
   "metadata": {},
   "outputs": [
    {
     "data": {
      "text/plain": [
       "<AxesSubplot: xlabel='review_stars', ylabel='count'>"
      ]
     },
     "execution_count": 7,
     "metadata": {},
     "output_type": "execute_result"
    },
    {
     "data": {
      "image/png": "[encoded data removed]",
      "text/plain": [
       "<Figure size 640x480 with 1 Axes>"
      ]
     },
     "metadata": {},
     "output_type": "display_data"
    }
   ],
   "source": [
    "sns.countplot(x='review_stars', data=df)"
   ]
  },
  {
   "cell_type": "markdown",
   "id": "c327555f",
   "metadata": {},
   "source": [
    "# Resampling"
   ]
  },
  {
   "cell_type": "code",
   "execution_count": 8,
   "id": "69449c9e",
   "metadata": {},
   "outputs": [
    {
     "data": {
      "text/html": [
       "<div>\n",
       "<style scoped>\n",
       "    .dataframe tbody tr th:only-of-type {\n",
       "        vertical-align: middle;\n",
       "    }\n",
       "\n",
       "    .dataframe tbody tr th {\n",
       "        vertical-align: top;\n",
       "    }\n",
       "\n",
       "    .dataframe thead th {\n",
       "        text-align: right;\n",
       "    }\n",
       "</style>\n",
       "<table border=\"1\" class=\"dataframe\">\n",
       "  <thead>\n",
       "    <tr style=\"text-align: right;\">\n",
       "      <th></th>\n",
       "      <th>review_breakout</th>\n",
       "      <th>week_ending</th>\n",
       "      <th>Brand</th>\n",
       "      <th>Subcategory</th>\n",
       "      <th>review_length</th>\n",
       "      <th>target</th>\n",
       "    </tr>\n",
       "  </thead>\n",
       "  <tbody>\n",
       "    <tr>\n",
       "      <th>268</th>\n",
       "      <td>['cant', 'feel', 'vibrat', 'batteri', 'last', ...</td>\n",
       "      <td>9/3/2022</td>\n",
       "      <td>LifeStyles</td>\n",
       "      <td>Sex Toys</td>\n",
       "      <td>11</td>\n",
       "      <td>0</td>\n",
       "    </tr>\n",
       "    <tr>\n",
       "      <th>1074</th>\n",
       "      <td>['tight', 'keep', 'eye', 'size', 'condom', 'or...</td>\n",
       "      <td>1/1/2022</td>\n",
       "      <td>SKYN</td>\n",
       "      <td>Condoms</td>\n",
       "      <td>9</td>\n",
       "      <td>0</td>\n",
       "    </tr>\n",
       "    <tr>\n",
       "      <th>406</th>\n",
       "      <td>['use', 'year', 'buy', 'new', 'pack', 'start',...</td>\n",
       "      <td>7/30/2022</td>\n",
       "      <td>SKYN</td>\n",
       "      <td>Condoms</td>\n",
       "      <td>55</td>\n",
       "      <td>0</td>\n",
       "    </tr>\n",
       "    <tr>\n",
       "      <th>554</th>\n",
       "      <td>['ladi', 'wast', 'ur', 'money', 'know', 'price...</td>\n",
       "      <td>6/18/2022</td>\n",
       "      <td>SKYN</td>\n",
       "      <td>Performance Enhancers &amp; Stimulants</td>\n",
       "      <td>31</td>\n",
       "      <td>0</td>\n",
       "    </tr>\n",
       "    <tr>\n",
       "      <th>270</th>\n",
       "      <td>['realli', 'good', 'get', 'amaz']</td>\n",
       "      <td>9/3/2022</td>\n",
       "      <td>SKYN</td>\n",
       "      <td>Condoms</td>\n",
       "      <td>4</td>\n",
       "      <td>1</td>\n",
       "    </tr>\n",
       "  </tbody>\n",
       "</table>\n",
       "</div>"
      ],
      "text/plain": [
       "                                        review_breakout week_ending  \\\n",
       "268   ['cant', 'feel', 'vibrat', 'batteri', 'last', ...    9/3/2022   \n",
       "1074  ['tight', 'keep', 'eye', 'size', 'condom', 'or...    1/1/2022   \n",
       "406   ['use', 'year', 'buy', 'new', 'pack', 'start',...   7/30/2022   \n",
       "554   ['ladi', 'wast', 'ur', 'money', 'know', 'price...   6/18/2022   \n",
       "270                   ['realli', 'good', 'get', 'amaz']    9/3/2022   \n",
       "\n",
       "           Brand                         Subcategory  review_length  target  \n",
       "268   LifeStyles                            Sex Toys             11       0  \n",
       "1074        SKYN                             Condoms              9       0  \n",
       "406         SKYN                             Condoms             55       0  \n",
       "554         SKYN  Performance Enhancers & Stimulants             31       0  \n",
       "270         SKYN                             Condoms              4       1  "
      ]
     },
     "execution_count": 8,
     "metadata": {},
     "output_type": "execute_result"
    }
   ],
   "source": [
    "# concatenate our training data back together\n",
    "training  = pd.DataFrame()\n",
    "training[list(x_train.columns)]=x_train\n",
    "training['target']=y_train\n",
    "training.head()\n"
   ]
  },
  {
   "cell_type": "code",
   "execution_count": 9,
   "id": "00daa990",
   "metadata": {},
   "outputs": [],
   "source": [
    "# separate minority and majority classes\n",
    "negative_review= training[training.target==0]\n",
    "positive_review= training[training.target==1]"
   ]
  },
  {
   "cell_type": "code",
   "execution_count": 10,
   "id": "821e125b",
   "metadata": {},
   "outputs": [
    {
     "name": "stdout",
     "output_type": "stream",
     "text": [
      "negative review count: 287\n",
      "positive review count: 696\n"
     ]
    }
   ],
   "source": [
    "# Get a class count to understand the class imbalance.\n",
    "print('negative review count: '+ str(len(negative_review)))\n",
    "print('positive review count: '+ str(len(positive_review)))"
   ]
  },
  {
   "cell_type": "code",
   "execution_count": 11,
   "id": "48b79f39",
   "metadata": {},
   "outputs": [
    {
     "data": {
      "text/html": [
       "<div>\n",
       "<style scoped>\n",
       "    .dataframe tbody tr th:only-of-type {\n",
       "        vertical-align: middle;\n",
       "    }\n",
       "\n",
       "    .dataframe tbody tr th {\n",
       "        vertical-align: top;\n",
       "    }\n",
       "\n",
       "    .dataframe thead th {\n",
       "        text-align: right;\n",
       "    }\n",
       "</style>\n",
       "<table border=\"1\" class=\"dataframe\">\n",
       "  <thead>\n",
       "    <tr style=\"text-align: right;\">\n",
       "      <th></th>\n",
       "      <th>review_breakout</th>\n",
       "      <th>week_ending</th>\n",
       "      <th>Brand</th>\n",
       "      <th>Subcategory</th>\n",
       "      <th>review_length</th>\n",
       "      <th>target</th>\n",
       "    </tr>\n",
       "  </thead>\n",
       "  <tbody>\n",
       "    <tr>\n",
       "      <th>95</th>\n",
       "      <td>['seriou', 'infect', 'use', 'go', 'doctor', 'b...</td>\n",
       "      <td>10/22/2022</td>\n",
       "      <td>SKYN</td>\n",
       "      <td>Condoms</td>\n",
       "      <td>12</td>\n",
       "      <td>0</td>\n",
       "    </tr>\n",
       "    <tr>\n",
       "      <th>865</th>\n",
       "      <td>['debería', 'un', 'poco', 'má', 'ancho', 'larg...</td>\n",
       "      <td>3/12/2022</td>\n",
       "      <td>SKYN</td>\n",
       "      <td>Condoms</td>\n",
       "      <td>43</td>\n",
       "      <td>0</td>\n",
       "    </tr>\n",
       "    <tr>\n",
       "      <th>1186</th>\n",
       "      <td>['dri', 'quick', 'leav', 'sticki', 'feel', 'st...</td>\n",
       "      <td>11/27/2021</td>\n",
       "      <td>SKYN</td>\n",
       "      <td>Sex Lubricants</td>\n",
       "      <td>10</td>\n",
       "      <td>0</td>\n",
       "    </tr>\n",
       "    <tr>\n",
       "      <th>743</th>\n",
       "      <td>['perfectli', 'fine', 'condom', \"'re\", 'suppos...</td>\n",
       "      <td>4/16/2022</td>\n",
       "      <td>SKYN</td>\n",
       "      <td>Condoms</td>\n",
       "      <td>22</td>\n",
       "      <td>0</td>\n",
       "    </tr>\n",
       "    <tr>\n",
       "      <th>234</th>\n",
       "      <td>['feel', 'stud', 'thick', 'cheap', 'feel']</td>\n",
       "      <td>9/17/2022</td>\n",
       "      <td>SKYN</td>\n",
       "      <td>Condoms</td>\n",
       "      <td>5</td>\n",
       "      <td>0</td>\n",
       "    </tr>\n",
       "  </tbody>\n",
       "</table>\n",
       "</div>"
      ],
      "text/plain": [
       "                                        review_breakout week_ending Brand  \\\n",
       "95    ['seriou', 'infect', 'use', 'go', 'doctor', 'b...  10/22/2022  SKYN   \n",
       "865   ['debería', 'un', 'poco', 'má', 'ancho', 'larg...   3/12/2022  SKYN   \n",
       "1186  ['dri', 'quick', 'leav', 'sticki', 'feel', 'st...  11/27/2021  SKYN   \n",
       "743   ['perfectli', 'fine', 'condom', \"'re\", 'suppos...   4/16/2022  SKYN   \n",
       "234          ['feel', 'stud', 'thick', 'cheap', 'feel']   9/17/2022  SKYN   \n",
       "\n",
       "         Subcategory  review_length  target  \n",
       "95           Condoms             12       0  \n",
       "865          Condoms             43       0  \n",
       "1186  Sex Lubricants             10       0  \n",
       "743          Condoms             22       0  \n",
       "234          Condoms              5       0  "
      ]
     },
     "execution_count": 11,
     "metadata": {},
     "output_type": "execute_result"
    }
   ],
   "source": [
    "# upsample minority\n",
    "negative_upsampled = resample(negative_review,\n",
    "                          replace=True, # sample with replacement\n",
    "                          n_samples=len(positive_review), # match number in majority class\n",
    "                          random_state=23) # reproducible results\n",
    "negative_upsampled.head()"
   ]
  },
  {
   "cell_type": "code",
   "execution_count": 12,
   "id": "7ff2f31b",
   "metadata": {},
   "outputs": [],
   "source": [
    "# upsample minority\n",
    "def upsample(minority):\n",
    "    df= resample(minority,replace=True, # sample with replacement\n",
    "                  n_samples=len(rating_5), # match number in majority class\n",
    "                   random_state=23) # reproducible results\n",
    "    return df"
   ]
  },
  {
   "cell_type": "code",
   "execution_count": 13,
   "id": "8281f14e",
   "metadata": {},
   "outputs": [
    {
     "data": {
      "text/plain": [
       "1    696\n",
       "0    696\n",
       "Name: target, dtype: int64"
      ]
     },
     "execution_count": 13,
     "metadata": {},
     "output_type": "execute_result"
    }
   ],
   "source": [
    "# combine majority and upsampled minority\n",
    "upsampled= pd.concat([positive_review, negative_upsampled])\n",
    "\n",
    "# check new class counts\n",
    "upsampled.target.value_counts()"
   ]
  },
  {
   "cell_type": "code",
   "execution_count": 14,
   "id": "cd75f6ac",
   "metadata": {},
   "outputs": [],
   "source": [
    "y_train = upsampled.target\n",
    "x_train = upsampled.drop('target', axis=1)"
   ]
  },
  {
   "cell_type": "code",
   "execution_count": 15,
   "id": "5934344a",
   "metadata": {},
   "outputs": [
    {
     "data": {
      "text/html": [
       "<div>\n",
       "<style scoped>\n",
       "    .dataframe tbody tr th:only-of-type {\n",
       "        vertical-align: middle;\n",
       "    }\n",
       "\n",
       "    .dataframe tbody tr th {\n",
       "        vertical-align: top;\n",
       "    }\n",
       "\n",
       "    .dataframe thead th {\n",
       "        text-align: right;\n",
       "    }\n",
       "</style>\n",
       "<table border=\"1\" class=\"dataframe\">\n",
       "  <thead>\n",
       "    <tr style=\"text-align: right;\">\n",
       "      <th></th>\n",
       "      <th>review_breakout</th>\n",
       "      <th>week_ending</th>\n",
       "      <th>Brand</th>\n",
       "      <th>Subcategory</th>\n",
       "      <th>review_length</th>\n",
       "    </tr>\n",
       "  </thead>\n",
       "  <tbody>\n",
       "    <tr>\n",
       "      <th>270</th>\n",
       "      <td>['realli', 'good', 'get', 'amaz']</td>\n",
       "      <td>9/3/2022</td>\n",
       "      <td>SKYN</td>\n",
       "      <td>Condoms</td>\n",
       "      <td>4</td>\n",
       "    </tr>\n",
       "    <tr>\n",
       "      <th>254</th>\n",
       "      <td>['yeah', 'excus', 'man', 'wear', 'thing', 'lov...</td>\n",
       "      <td>9/10/2022</td>\n",
       "      <td>SKYN</td>\n",
       "      <td>Condoms</td>\n",
       "      <td>8</td>\n",
       "    </tr>\n",
       "    <tr>\n",
       "      <th>58</th>\n",
       "      <td>['latex']</td>\n",
       "      <td>10/29/2022</td>\n",
       "      <td>SKYN</td>\n",
       "      <td>Condoms</td>\n",
       "      <td>1</td>\n",
       "    </tr>\n",
       "    <tr>\n",
       "      <th>869</th>\n",
       "      <td>['feel', 'real', 'thing', 'work', 'advertis']</td>\n",
       "      <td>3/5/2022</td>\n",
       "      <td>SKYN</td>\n",
       "      <td>Condoms</td>\n",
       "      <td>5</td>\n",
       "    </tr>\n",
       "    <tr>\n",
       "      <th>390</th>\n",
       "      <td>['feel', 'smooth', 'thin', 'smooth']</td>\n",
       "      <td>8/6/2022</td>\n",
       "      <td>SKYN</td>\n",
       "      <td>Condoms</td>\n",
       "      <td>4</td>\n",
       "    </tr>\n",
       "  </tbody>\n",
       "</table>\n",
       "</div>"
      ],
      "text/plain": [
       "                                       review_breakout week_ending Brand  \\\n",
       "270                  ['realli', 'good', 'get', 'amaz']    9/3/2022  SKYN   \n",
       "254  ['yeah', 'excus', 'man', 'wear', 'thing', 'lov...   9/10/2022  SKYN   \n",
       "58                                           ['latex']  10/29/2022  SKYN   \n",
       "869      ['feel', 'real', 'thing', 'work', 'advertis']    3/5/2022  SKYN   \n",
       "390               ['feel', 'smooth', 'thin', 'smooth']    8/6/2022  SKYN   \n",
       "\n",
       "    Subcategory  review_length  \n",
       "270     Condoms              4  \n",
       "254     Condoms              8  \n",
       "58      Condoms              1  \n",
       "869     Condoms              5  \n",
       "390     Condoms              4  "
      ]
     },
     "execution_count": 15,
     "metadata": {},
     "output_type": "execute_result"
    }
   ],
   "source": [
    "x_train.head()"
   ]
  },
  {
   "cell_type": "markdown",
   "id": "f260b6c8",
   "metadata": {},
   "source": [
    "# Vectorize"
   ]
  },
  {
   "cell_type": "code",
   "execution_count": 16,
   "id": "4fddf0ba",
   "metadata": {},
   "outputs": [],
   "source": [
    "train_text=[\"\".join(x) for x in x_train['review_breakout']]\n",
    "test_text=[\"\".join(x) for x in x_test['review_breakout']]"
   ]
  },
  {
   "cell_type": "code",
   "execution_count": 17,
   "id": "acfeeb4e",
   "metadata": {},
   "outputs": [],
   "source": [
    "vectorizer=CountVectorizer()"
   ]
  },
  {
   "cell_type": "code",
   "execution_count": 18,
   "id": "f5033665",
   "metadata": {},
   "outputs": [],
   "source": [
    "X_trainc=vectorizer.fit_transform(train_text).todense()\n",
    "X_testc=vectorizer.transform(test_text).todense()"
   ]
  },
  {
   "cell_type": "code",
   "execution_count": 19,
   "id": "8a8feca8",
   "metadata": {},
   "outputs": [],
   "source": [
    "\n",
    "def history_model(X_train, y_train,X_test, y_test):\n",
    "    #Before we build our model, we need to know the input dimension of our feature vectors.\n",
    "    input_dim = X_train.shape[1] \n",
    "    # Add layers one by one in order \n",
    "    random.seed(123)\n",
    "    model = Sequential()\n",
    "    model.add(keras.layers.Dense(10, input_dim=input_dim, activation='relu'))\n",
    "    model.add(keras.layers.Dense(1, activation='sigmoid'))\n",
    "    opt = SGD(lr=0.01, momentum=0.9)\n",
    "    #specify the optimizer and the loss function.\n",
    "    model.compile(loss='binary_crossentropy', \n",
    "                  optimizer=opt, \n",
    "                  metrics=['accuracy'])\n",
    "\n",
    "    #Give an overview of the model and the number of parameters available for training:\n",
    "    model.summary()\n",
    "    # # fit the model\n",
    "    history = model.fit(X_train, y_train,epochs=50, verbose=1,\n",
    "                    validation_data=(X_test, y_test),batch_size=70)\n",
    "    return history, model"
   ]
  },
  {
   "cell_type": "code",
   "execution_count": 20,
   "id": "30730b31",
   "metadata": {},
   "outputs": [],
   "source": [
    "def nn_result_prediction(X_train, y_train,X_test, y_test,model):\n",
    "    # obtian Accuracies for train data and test data\n",
    "    loss1, accuracy1 = model.evaluate(X_train, y_train, verbose=False)\n",
    "    \n",
    "    loss2, accuracy2 = model.evaluate(X_test, y_test, verbose=False)\n",
    "    \n",
    "    #prediction\n",
    "    nn_train_pre=model.predict_classes(X_train)\n",
    "    nn_test_pre=model.predict_classes(X_test)\n",
    "\n",
    "    # calculate f1 scores for test data and train data \n",
    "    nn_f1_score_test=f1_score(y_test,nn_test_pre)\n",
    "    nn_f1_score_train=f1_score(y_train,nn_train_pre)\n",
    "\n",
    "    \n",
    "    return nn_train_pre,nn_test_pre"
   ]
  },
  {
   "cell_type": "code",
   "execution_count": 21,
   "id": "13c4ec87",
   "metadata": {},
   "outputs": [
    {
     "name": "stdout",
     "output_type": "stream",
     "text": [
      "Model: \"sequential\"\n",
      "_________________________________________________________________\n",
      " Layer (type)                Output Shape              Param #   \n",
      "=================================================================\n",
      " dense (Dense)               (None, 10)                20400     \n",
      "                                                                 \n",
      " dense_1 (Dense)             (None, 1)                 11        \n",
      "                                                                 \n",
      "=================================================================\n",
      "Total params: 20,411\n",
      "Trainable params: 20,411\n",
      "Non-trainable params: 0\n",
      "_________________________________________________________________\n",
      "Epoch 1/50\n"
     ]
    },
    {
     "name": "stderr",
     "output_type": "stream",
     "text": [
      "/Users/kaseymathues/miniforge3/envs/PythonData/lib/python3.8/site-packages/keras/optimizers/optimizer_v2/gradient_descent.py:111: UserWarning: The `lr` argument is deprecated, use `learning_rate` instead.\n",
      "  super().__init__(name, **kwargs)\n"
     ]
    },
    {
     "name": "stdout",
     "output_type": "stream",
     "text": [
      "20/20 [==============================] - 1s 17ms/step - loss: 0.6842 - accuracy: 0.5654 - val_loss: 0.6767 - val_accuracy: 0.6220\n",
      "Epoch 2/50\n",
      "20/20 [==============================] - 0s 5ms/step - loss: 0.6429 - accuracy: 0.7162 - val_loss: 0.6342 - val_accuracy: 0.7114\n",
      "Epoch 3/50\n",
      "20/20 [==============================] - 0s 5ms/step - loss: 0.5876 - accuracy: 0.7953 - val_loss: 0.5936 - val_accuracy: 0.7724\n",
      "Epoch 4/50\n",
      "20/20 [==============================] - 0s 5ms/step - loss: 0.5328 - accuracy: 0.8247 - val_loss: 0.5563 - val_accuracy: 0.7805\n",
      "Epoch 5/50\n",
      "20/20 [==============================] - 0s 5ms/step - loss: 0.4829 - accuracy: 0.8477 - val_loss: 0.5254 - val_accuracy: 0.7805\n",
      "Epoch 6/50\n",
      "20/20 [==============================] - 0s 5ms/step - loss: 0.4383 - accuracy: 0.8678 - val_loss: 0.4980 - val_accuracy: 0.7764\n",
      "Epoch 7/50\n",
      "20/20 [==============================] - 0s 5ms/step - loss: 0.4002 - accuracy: 0.8750 - val_loss: 0.4702 - val_accuracy: 0.8130\n",
      "Epoch 8/50\n",
      "20/20 [==============================] - 0s 5ms/step - loss: 0.3669 - accuracy: 0.8930 - val_loss: 0.4629 - val_accuracy: 0.7927\n",
      "Epoch 9/50\n",
      "20/20 [==============================] - 0s 5ms/step - loss: 0.3399 - accuracy: 0.9037 - val_loss: 0.4431 - val_accuracy: 0.8089\n",
      "Epoch 10/50\n",
      "20/20 [==============================] - 0s 5ms/step - loss: 0.3154 - accuracy: 0.9009 - val_loss: 0.4331 - val_accuracy: 0.8130\n",
      "Epoch 11/50\n",
      "20/20 [==============================] - 0s 5ms/step - loss: 0.2942 - accuracy: 0.9174 - val_loss: 0.4278 - val_accuracy: 0.8089\n",
      "Epoch 12/50\n",
      "20/20 [==============================] - 0s 5ms/step - loss: 0.2754 - accuracy: 0.9217 - val_loss: 0.4195 - val_accuracy: 0.8130\n",
      "Epoch 13/50\n",
      "20/20 [==============================] - 0s 5ms/step - loss: 0.2596 - accuracy: 0.9296 - val_loss: 0.4152 - val_accuracy: 0.8171\n",
      "Epoch 14/50\n",
      "20/20 [==============================] - 0s 5ms/step - loss: 0.2452 - accuracy: 0.9310 - val_loss: 0.4129 - val_accuracy: 0.8130\n",
      "Epoch 15/50\n",
      "20/20 [==============================] - 0s 5ms/step - loss: 0.2322 - accuracy: 0.9397 - val_loss: 0.4085 - val_accuracy: 0.8333\n",
      "Epoch 16/50\n",
      "20/20 [==============================] - 0s 5ms/step - loss: 0.2209 - accuracy: 0.9418 - val_loss: 0.4059 - val_accuracy: 0.8293\n",
      "Epoch 17/50\n",
      "20/20 [==============================] - 0s 5ms/step - loss: 0.2103 - accuracy: 0.9461 - val_loss: 0.4037 - val_accuracy: 0.8293\n",
      "Epoch 18/50\n",
      "20/20 [==============================] - 0s 5ms/step - loss: 0.2007 - accuracy: 0.9476 - val_loss: 0.4019 - val_accuracy: 0.8374\n",
      "Epoch 19/50\n",
      "20/20 [==============================] - 0s 5ms/step - loss: 0.1913 - accuracy: 0.9468 - val_loss: 0.4010 - val_accuracy: 0.8455\n",
      "Epoch 20/50\n",
      "20/20 [==============================] - 0s 5ms/step - loss: 0.1834 - accuracy: 0.9476 - val_loss: 0.4002 - val_accuracy: 0.8455\n",
      "Epoch 21/50\n",
      "20/20 [==============================] - 0s 5ms/step - loss: 0.1760 - accuracy: 0.9526 - val_loss: 0.3986 - val_accuracy: 0.8455\n",
      "Epoch 22/50\n",
      "20/20 [==============================] - 0s 5ms/step - loss: 0.1693 - accuracy: 0.9569 - val_loss: 0.3974 - val_accuracy: 0.8455\n",
      "Epoch 23/50\n",
      "20/20 [==============================] - 0s 5ms/step - loss: 0.1630 - accuracy: 0.9547 - val_loss: 0.3967 - val_accuracy: 0.8455\n",
      "Epoch 24/50\n",
      "20/20 [==============================] - 0s 5ms/step - loss: 0.1566 - accuracy: 0.9583 - val_loss: 0.3972 - val_accuracy: 0.8374\n",
      "Epoch 25/50\n",
      "20/20 [==============================] - 0s 5ms/step - loss: 0.1510 - accuracy: 0.9598 - val_loss: 0.3980 - val_accuracy: 0.8415\n",
      "Epoch 26/50\n",
      "20/20 [==============================] - 0s 5ms/step - loss: 0.1456 - accuracy: 0.9605 - val_loss: 0.3992 - val_accuracy: 0.8455\n",
      "Epoch 27/50\n",
      "20/20 [==============================] - 0s 5ms/step - loss: 0.1409 - accuracy: 0.9626 - val_loss: 0.3967 - val_accuracy: 0.8537\n",
      "Epoch 28/50\n",
      "20/20 [==============================] - 0s 5ms/step - loss: 0.1361 - accuracy: 0.9641 - val_loss: 0.3997 - val_accuracy: 0.8455\n",
      "Epoch 29/50\n",
      "20/20 [==============================] - 0s 5ms/step - loss: 0.1317 - accuracy: 0.9662 - val_loss: 0.4010 - val_accuracy: 0.8496\n",
      "Epoch 30/50\n",
      "20/20 [==============================] - 0s 5ms/step - loss: 0.1276 - accuracy: 0.9670 - val_loss: 0.4010 - val_accuracy: 0.8496\n",
      "Epoch 31/50\n",
      "20/20 [==============================] - 0s 5ms/step - loss: 0.1237 - accuracy: 0.9691 - val_loss: 0.4024 - val_accuracy: 0.8537\n",
      "Epoch 32/50\n",
      "20/20 [==============================] - 0s 5ms/step - loss: 0.1201 - accuracy: 0.9713 - val_loss: 0.4035 - val_accuracy: 0.8537\n",
      "Epoch 33/50\n",
      "20/20 [==============================] - 0s 5ms/step - loss: 0.1164 - accuracy: 0.9720 - val_loss: 0.4055 - val_accuracy: 0.8496\n",
      "Epoch 34/50\n",
      "20/20 [==============================] - 0s 5ms/step - loss: 0.1132 - accuracy: 0.9720 - val_loss: 0.4065 - val_accuracy: 0.8496\n",
      "Epoch 35/50\n",
      "20/20 [==============================] - 0s 5ms/step - loss: 0.1099 - accuracy: 0.9720 - val_loss: 0.4075 - val_accuracy: 0.8496\n",
      "Epoch 36/50\n",
      "20/20 [==============================] - 0s 5ms/step - loss: 0.1070 - accuracy: 0.9727 - val_loss: 0.4100 - val_accuracy: 0.8455\n",
      "Epoch 37/50\n",
      "20/20 [==============================] - 0s 5ms/step - loss: 0.1041 - accuracy: 0.9741 - val_loss: 0.4114 - val_accuracy: 0.8496\n",
      "Epoch 38/50\n",
      "20/20 [==============================] - 0s 5ms/step - loss: 0.1013 - accuracy: 0.9749 - val_loss: 0.4143 - val_accuracy: 0.8455\n",
      "Epoch 39/50\n",
      "20/20 [==============================] - 0s 5ms/step - loss: 0.0988 - accuracy: 0.9741 - val_loss: 0.4150 - val_accuracy: 0.8496\n",
      "Epoch 40/50\n",
      "20/20 [==============================] - 0s 5ms/step - loss: 0.0963 - accuracy: 0.9749 - val_loss: 0.4190 - val_accuracy: 0.8455\n",
      "Epoch 41/50\n",
      "20/20 [==============================] - 0s 5ms/step - loss: 0.0939 - accuracy: 0.9784 - val_loss: 0.4190 - val_accuracy: 0.8455\n",
      "Epoch 42/50\n",
      "20/20 [==============================] - 0s 5ms/step - loss: 0.0917 - accuracy: 0.9792 - val_loss: 0.4211 - val_accuracy: 0.8455\n",
      "Epoch 43/50\n",
      "20/20 [==============================] - 0s 5ms/step - loss: 0.0894 - accuracy: 0.9792 - val_loss: 0.4230 - val_accuracy: 0.8455\n",
      "Epoch 44/50\n",
      "20/20 [==============================] - 0s 5ms/step - loss: 0.0873 - accuracy: 0.9792 - val_loss: 0.4244 - val_accuracy: 0.8455\n",
      "Epoch 45/50\n",
      "20/20 [==============================] - 0s 5ms/step - loss: 0.0855 - accuracy: 0.9792 - val_loss: 0.4275 - val_accuracy: 0.8455\n",
      "Epoch 46/50\n",
      "20/20 [==============================] - 0s 5ms/step - loss: 0.0837 - accuracy: 0.9799 - val_loss: 0.4298 - val_accuracy: 0.8496\n",
      "Epoch 47/50\n",
      "20/20 [==============================] - 0s 5ms/step - loss: 0.0816 - accuracy: 0.9813 - val_loss: 0.4314 - val_accuracy: 0.8537\n",
      "Epoch 48/50\n",
      "20/20 [==============================] - 0s 5ms/step - loss: 0.0799 - accuracy: 0.9813 - val_loss: 0.4341 - val_accuracy: 0.8537\n",
      "Epoch 49/50\n",
      "20/20 [==============================] - 0s 5ms/step - loss: 0.0784 - accuracy: 0.9820 - val_loss: 0.4362 - val_accuracy: 0.8496\n",
      "Epoch 50/50\n",
      "20/20 [==============================] - 0s 5ms/step - loss: 0.0768 - accuracy: 0.9813 - val_loss: 0.4389 - val_accuracy: 0.8496\n"
     ]
    }
   ],
   "source": [
    "historyc, modelc=history_model(X_trainc, y_train,X_testc, y_test)"
   ]
  },
  {
   "cell_type": "code",
   "execution_count": 22,
   "id": "2a7a253c",
   "metadata": {},
   "outputs": [
    {
     "data": {
      "text/plain": [
       "<AxesSubplot: >"
      ]
     },
     "execution_count": 22,
     "metadata": {},
     "output_type": "execute_result"
    },
    {
     "data": {
      "image/png": "[encoded data removed]",
      "text/plain": [
       "<Figure size 640x480 with 1 Axes>"
      ]
     },
     "metadata": {},
     "output_type": "display_data"
    }
   ],
   "source": [
    "history_df = pd.DataFrame(historyc.history)\n",
    "history_df.index +=1\n",
    "history_df.plot(y=\"loss\")"
   ]
  },
  {
   "cell_type": "code",
   "execution_count": 23,
   "id": "8e2db16f",
   "metadata": {},
   "outputs": [
    {
     "data": {
      "text/plain": [
       "<AxesSubplot: >"
      ]
     },
     "execution_count": 23,
     "metadata": {},
     "output_type": "execute_result"
    },
    {
     "data": {
      "image/png": "[encoded data removed]",
      "text/plain": [
       "<Figure size 640x480 with 1 Axes>"
      ]
     },
     "metadata": {},
     "output_type": "display_data"
    }
   ],
   "source": [
    "history_df.plot(y=\"accuracy\")"
   ]
  },
  {
   "cell_type": "code",
   "execution_count": 24,
   "id": "dda7fe70",
   "metadata": {},
   "outputs": [
    {
     "data": {
      "image/png": "[encoded data removed]",
      "text/plain": [
       "<Figure size 640x480 with 2 Axes>"
      ]
     },
     "metadata": {},
     "output_type": "display_data"
    }
   ],
   "source": [
    "# plot loss during training\n",
    "plt.subplot(211)\n",
    "plt.title('Loss')\n",
    "plt.plot(historyc.history['loss'], label='train')\n",
    "plt.plot(historyc.history['val_loss'], label='test')\n",
    "plt.legend()\n",
    "# plot accuracy during training\n",
    "plt.subplot(212)\n",
    "plt.title('Accuracy')\n",
    "plt.plot(historyc.history['accuracy'], label='train')\n",
    "plt.plot(historyc.history['val_accuracy'], label='test')\n",
    "plt.legend()\n",
    "plt.show()"
   ]
  },
  {
   "cell_type": "code",
   "execution_count": 25,
   "id": "65db4b5f",
   "metadata": {},
   "outputs": [
    {
     "name": "stdout",
     "output_type": "stream",
     "text": [
      "Accuracy: (<keras.callbacks.History object at 0x28d4eed60>, [0.43889090418815613, 0.8495935797691345])\n"
     ]
    }
   ],
   "source": [
    "accuracy = historyc,modelc.evaluate(X_testc, y_test, verbose=False)\n",
    "print(f\"Accuracy: {accuracy}\")"
   ]
  },
  {
   "cell_type": "markdown",
   "id": "a9605144",
   "metadata": {},
   "source": [
    "# LOGISTIC REGRESSION"
   ]
  },
  {
   "cell_type": "code",
   "execution_count": 26,
   "id": "3039b394",
   "metadata": {},
   "outputs": [],
   "source": [
    "X= df['review_breakout']\n",
    "Y= df['target']"
   ]
  },
  {
   "cell_type": "code",
   "execution_count": 27,
   "id": "26234086",
   "metadata": {},
   "outputs": [],
   "source": [
    "cv = CountVectorizer()\n",
    "X = cv.fit_transform(df['review_breakout'])"
   ]
  },
  {
   "cell_type": "code",
   "execution_count": 28,
   "id": "141d5582",
   "metadata": {},
   "outputs": [],
   "source": [
    "x_train, x_test, y_train, y_test = train_test_split(X,Y, test_size=0.2, random_state=42)"
   ]
  },
  {
   "cell_type": "code",
   "execution_count": 29,
   "id": "5f88eaf1",
   "metadata": {},
   "outputs": [
    {
     "name": "stdout",
     "output_type": "stream",
     "text": [
      "Size of x_train:  (983, 2312)\n",
      "Size of y_train:  (983,)\n",
      "Size of x_test:  (246, 2312)\n",
      "Size of y_test:  (246,)\n"
     ]
    }
   ],
   "source": [
    "print(\"Size of x_train: \",(x_train.shape))\n",
    "print(\"Size of y_train: \",(y_train.shape))\n",
    "print(\"Size of x_test: \",(x_test.shape))\n",
    "print(\"Size of y_test: \",(y_test.shape))"
   ]
  },
  {
   "cell_type": "code",
   "execution_count": 30,
   "id": "0d185c3f",
   "metadata": {},
   "outputs": [
    {
     "name": "stdout",
     "output_type": "stream",
     "text": [
      "Test accuracy: 86.59%\n"
     ]
    }
   ],
   "source": [
    "logreg = LogisticRegression()\n",
    "logreg.fit(x_train, y_train)\n",
    "logreg_pred = logreg.predict(x_test)\n",
    "logreg_acc = accuracy_score(logreg_pred, y_test)\n",
    "print(\"Test accuracy: {:.2f}%\".format(logreg_acc*100))"
   ]
  },
  {
   "cell_type": "code",
   "execution_count": 31,
   "id": "4ca516de",
   "metadata": {},
   "outputs": [
    {
     "name": "stdout",
     "output_type": "stream",
     "text": [
      "[[ 50  21]\n",
      " [ 12 163]]\n",
      "\n",
      "\n",
      "              precision    recall  f1-score   support\n",
      "\n",
      "           0       0.81      0.70      0.75        71\n",
      "           1       0.89      0.93      0.91       175\n",
      "\n",
      "    accuracy                           0.87       246\n",
      "   macro avg       0.85      0.82      0.83       246\n",
      "weighted avg       0.86      0.87      0.86       246\n",
      "\n"
     ]
    }
   ],
   "source": [
    "print(confusion_matrix(y_test, logreg_pred))\n",
    "print(\"\\n\")\n",
    "print(classification_report(y_test, logreg_pred))"
   ]
  },
  {
   "cell_type": "markdown",
   "id": "11118b0f",
   "metadata": {},
   "source": [
    "# Naive Bayes Classifier 1"
   ]
  },
  {
   "cell_type": "code",
   "execution_count": 32,
   "id": "66eb56c7",
   "metadata": {},
   "outputs": [
    {
     "name": "stdout",
     "output_type": "stream",
     "text": [
      "Test accuracy: 82.93%\n"
     ]
    }
   ],
   "source": [
    "mnb = MultinomialNB()\n",
    "mnb.fit(x_train, y_train)\n",
    "mnb_pred = mnb.predict(x_test)\n",
    "mnb_acc = accuracy_score(mnb_pred, y_test)\n",
    "print(\"Test accuracy: {:.2f}%\".format(mnb_acc*100))"
   ]
  },
  {
   "cell_type": "code",
   "execution_count": 33,
   "id": "a635763b",
   "metadata": {},
   "outputs": [
    {
     "name": "stdout",
     "output_type": "stream",
     "text": [
      "[[ 48  23]\n",
      " [ 19 156]]\n",
      "\n",
      "\n",
      "              precision    recall  f1-score   support\n",
      "\n",
      "           0       0.72      0.68      0.70        71\n",
      "           1       0.87      0.89      0.88       175\n",
      "\n",
      "    accuracy                           0.83       246\n",
      "   macro avg       0.79      0.78      0.79       246\n",
      "weighted avg       0.83      0.83      0.83       246\n",
      "\n"
     ]
    }
   ],
   "source": [
    "print(confusion_matrix(y_test, mnb_pred))\n",
    "print(\"\\n\")\n",
    "print(classification_report(y_test, mnb_pred))"
   ]
  },
  {
   "cell_type": "markdown",
   "id": "33491073",
   "metadata": {},
   "source": [
    "# SVM MODEL"
   ]
  },
  {
   "cell_type": "code",
   "execution_count": 3,
   "id": "39078ffb",
   "metadata": {},
   "outputs": [],
   "source": [
    "df = pd.read_csv('Resources/machine_learning.csv')\n",
    "#declare inputs and target - analyzing to see if the time of year, brand, subcategory and review length impact ratings\n",
    "inputs=df[['review_breakout','week_ending', 'Brand','Subcategory', 'review_length']]\n",
    "target=df['target']"
   ]
  },
  {
   "cell_type": "code",
   "execution_count": 4,
   "id": "7fec1685",
   "metadata": {},
   "outputs": [
    {
     "data": {
      "text/html": [
       "<div>\n",
       "<style scoped>\n",
       "    .dataframe tbody tr th:only-of-type {\n",
       "        vertical-align: middle;\n",
       "    }\n",
       "\n",
       "    .dataframe tbody tr th {\n",
       "        vertical-align: top;\n",
       "    }\n",
       "\n",
       "    .dataframe thead th {\n",
       "        text-align: right;\n",
       "    }\n",
       "</style>\n",
       "<table border=\"1\" class=\"dataframe\">\n",
       "  <thead>\n",
       "    <tr style=\"text-align: right;\">\n",
       "      <th></th>\n",
       "      <th>review_breakout</th>\n",
       "      <th>week_ending</th>\n",
       "      <th>Brand</th>\n",
       "      <th>Subcategory</th>\n",
       "      <th>review_length</th>\n",
       "    </tr>\n",
       "  </thead>\n",
       "  <tbody>\n",
       "    <tr>\n",
       "      <th>268</th>\n",
       "      <td>['cant', 'feel', 'vibrat', 'batteri', 'last', ...</td>\n",
       "      <td>9/3/2022</td>\n",
       "      <td>LifeStyles</td>\n",
       "      <td>Sex Toys</td>\n",
       "      <td>11</td>\n",
       "    </tr>\n",
       "    <tr>\n",
       "      <th>1074</th>\n",
       "      <td>['tight', 'keep', 'eye', 'size', 'condom', 'or...</td>\n",
       "      <td>1/1/2022</td>\n",
       "      <td>SKYN</td>\n",
       "      <td>Condoms</td>\n",
       "      <td>9</td>\n",
       "    </tr>\n",
       "    <tr>\n",
       "      <th>406</th>\n",
       "      <td>['use', 'year', 'buy', 'new', 'pack', 'start',...</td>\n",
       "      <td>7/30/2022</td>\n",
       "      <td>SKYN</td>\n",
       "      <td>Condoms</td>\n",
       "      <td>55</td>\n",
       "    </tr>\n",
       "    <tr>\n",
       "      <th>554</th>\n",
       "      <td>['ladi', 'wast', 'ur', 'money', 'know', 'price...</td>\n",
       "      <td>6/18/2022</td>\n",
       "      <td>SKYN</td>\n",
       "      <td>Performance Enhancers &amp; Stimulants</td>\n",
       "      <td>31</td>\n",
       "    </tr>\n",
       "    <tr>\n",
       "      <th>270</th>\n",
       "      <td>['realli', 'good', 'get', 'amaz']</td>\n",
       "      <td>9/3/2022</td>\n",
       "      <td>SKYN</td>\n",
       "      <td>Condoms</td>\n",
       "      <td>4</td>\n",
       "    </tr>\n",
       "  </tbody>\n",
       "</table>\n",
       "</div>"
      ],
      "text/plain": [
       "                                        review_breakout week_ending  \\\n",
       "268   ['cant', 'feel', 'vibrat', 'batteri', 'last', ...    9/3/2022   \n",
       "1074  ['tight', 'keep', 'eye', 'size', 'condom', 'or...    1/1/2022   \n",
       "406   ['use', 'year', 'buy', 'new', 'pack', 'start',...   7/30/2022   \n",
       "554   ['ladi', 'wast', 'ur', 'money', 'know', 'price...   6/18/2022   \n",
       "270                   ['realli', 'good', 'get', 'amaz']    9/3/2022   \n",
       "\n",
       "           Brand                         Subcategory  review_length  \n",
       "268   LifeStyles                            Sex Toys             11  \n",
       "1074        SKYN                             Condoms              9  \n",
       "406         SKYN                             Condoms             55  \n",
       "554         SKYN  Performance Enhancers & Stimulants             31  \n",
       "270         SKYN                             Condoms              4  "
      ]
     },
     "execution_count": 4,
     "metadata": {},
     "output_type": "execute_result"
    }
   ],
   "source": [
    "#train test split dataset \n",
    "x_train, x_test, y_train, y_test = train_test_split(inputs, target, test_size=.2, random_state=0)\n",
    "x_train.head()"
   ]
  },
  {
   "cell_type": "code",
   "execution_count": 5,
   "id": "f498eb94",
   "metadata": {},
   "outputs": [
    {
     "data": {
      "text/html": [
       "<div>\n",
       "<style scoped>\n",
       "    .dataframe tbody tr th:only-of-type {\n",
       "        vertical-align: middle;\n",
       "    }\n",
       "\n",
       "    .dataframe tbody tr th {\n",
       "        vertical-align: top;\n",
       "    }\n",
       "\n",
       "    .dataframe thead th {\n",
       "        text-align: right;\n",
       "    }\n",
       "</style>\n",
       "<table border=\"1\" class=\"dataframe\">\n",
       "  <thead>\n",
       "    <tr style=\"text-align: right;\">\n",
       "      <th></th>\n",
       "      <th>review_breakout</th>\n",
       "      <th>week_ending</th>\n",
       "      <th>Brand</th>\n",
       "      <th>Subcategory</th>\n",
       "      <th>review_length</th>\n",
       "      <th>target</th>\n",
       "    </tr>\n",
       "  </thead>\n",
       "  <tbody>\n",
       "    <tr>\n",
       "      <th>268</th>\n",
       "      <td>['cant', 'feel', 'vibrat', 'batteri', 'last', ...</td>\n",
       "      <td>9/3/2022</td>\n",
       "      <td>LifeStyles</td>\n",
       "      <td>Sex Toys</td>\n",
       "      <td>11</td>\n",
       "      <td>0</td>\n",
       "    </tr>\n",
       "    <tr>\n",
       "      <th>1074</th>\n",
       "      <td>['tight', 'keep', 'eye', 'size', 'condom', 'or...</td>\n",
       "      <td>1/1/2022</td>\n",
       "      <td>SKYN</td>\n",
       "      <td>Condoms</td>\n",
       "      <td>9</td>\n",
       "      <td>0</td>\n",
       "    </tr>\n",
       "    <tr>\n",
       "      <th>406</th>\n",
       "      <td>['use', 'year', 'buy', 'new', 'pack', 'start',...</td>\n",
       "      <td>7/30/2022</td>\n",
       "      <td>SKYN</td>\n",
       "      <td>Condoms</td>\n",
       "      <td>55</td>\n",
       "      <td>0</td>\n",
       "    </tr>\n",
       "    <tr>\n",
       "      <th>554</th>\n",
       "      <td>['ladi', 'wast', 'ur', 'money', 'know', 'price...</td>\n",
       "      <td>6/18/2022</td>\n",
       "      <td>SKYN</td>\n",
       "      <td>Performance Enhancers &amp; Stimulants</td>\n",
       "      <td>31</td>\n",
       "      <td>0</td>\n",
       "    </tr>\n",
       "    <tr>\n",
       "      <th>270</th>\n",
       "      <td>['realli', 'good', 'get', 'amaz']</td>\n",
       "      <td>9/3/2022</td>\n",
       "      <td>SKYN</td>\n",
       "      <td>Condoms</td>\n",
       "      <td>4</td>\n",
       "      <td>1</td>\n",
       "    </tr>\n",
       "  </tbody>\n",
       "</table>\n",
       "</div>"
      ],
      "text/plain": [
       "                                        review_breakout week_ending  \\\n",
       "268   ['cant', 'feel', 'vibrat', 'batteri', 'last', ...    9/3/2022   \n",
       "1074  ['tight', 'keep', 'eye', 'size', 'condom', 'or...    1/1/2022   \n",
       "406   ['use', 'year', 'buy', 'new', 'pack', 'start',...   7/30/2022   \n",
       "554   ['ladi', 'wast', 'ur', 'money', 'know', 'price...   6/18/2022   \n",
       "270                   ['realli', 'good', 'get', 'amaz']    9/3/2022   \n",
       "\n",
       "           Brand                         Subcategory  review_length  target  \n",
       "268   LifeStyles                            Sex Toys             11       0  \n",
       "1074        SKYN                             Condoms              9       0  \n",
       "406         SKYN                             Condoms             55       0  \n",
       "554         SKYN  Performance Enhancers & Stimulants             31       0  \n",
       "270         SKYN                             Condoms              4       1  "
      ]
     },
     "execution_count": 5,
     "metadata": {},
     "output_type": "execute_result"
    }
   ],
   "source": [
    "# concatenate our training data back together\n",
    "training  = pd.DataFrame()\n",
    "training[list(x_train.columns)]=x_train\n",
    "training['target']=y_train\n",
    "training.head()"
   ]
  },
  {
   "cell_type": "code",
   "execution_count": 6,
   "id": "3d9abbc9",
   "metadata": {},
   "outputs": [],
   "source": [
    "# separate minority and majority classes\n",
    "negative_review= training[training.target==0]\n",
    "positive_review= training[training.target==1]"
   ]
  },
  {
   "cell_type": "code",
   "execution_count": 7,
   "id": "8bfdf2ec",
   "metadata": {},
   "outputs": [
    {
     "name": "stdout",
     "output_type": "stream",
     "text": [
      "negative review count: 287\n",
      "positive review count: 696\n"
     ]
    }
   ],
   "source": [
    "# Get a class count to understand the class imbalance.\n",
    "print('negative review count: '+ str(len(negative_review)))\n",
    "print('positive review count: '+ str(len(positive_review)))"
   ]
  },
  {
   "cell_type": "code",
   "execution_count": 8,
   "id": "bb122155",
   "metadata": {},
   "outputs": [
    {
     "data": {
      "text/html": [
       "<div>\n",
       "<style scoped>\n",
       "    .dataframe tbody tr th:only-of-type {\n",
       "        vertical-align: middle;\n",
       "    }\n",
       "\n",
       "    .dataframe tbody tr th {\n",
       "        vertical-align: top;\n",
       "    }\n",
       "\n",
       "    .dataframe thead th {\n",
       "        text-align: right;\n",
       "    }\n",
       "</style>\n",
       "<table border=\"1\" class=\"dataframe\">\n",
       "  <thead>\n",
       "    <tr style=\"text-align: right;\">\n",
       "      <th></th>\n",
       "      <th>review_breakout</th>\n",
       "      <th>week_ending</th>\n",
       "      <th>Brand</th>\n",
       "      <th>Subcategory</th>\n",
       "      <th>review_length</th>\n",
       "      <th>target</th>\n",
       "    </tr>\n",
       "  </thead>\n",
       "  <tbody>\n",
       "    <tr>\n",
       "      <th>95</th>\n",
       "      <td>['seriou', 'infect', 'use', 'go', 'doctor', 'b...</td>\n",
       "      <td>10/22/2022</td>\n",
       "      <td>SKYN</td>\n",
       "      <td>Condoms</td>\n",
       "      <td>12</td>\n",
       "      <td>0</td>\n",
       "    </tr>\n",
       "    <tr>\n",
       "      <th>865</th>\n",
       "      <td>['debería', 'un', 'poco', 'má', 'ancho', 'larg...</td>\n",
       "      <td>3/12/2022</td>\n",
       "      <td>SKYN</td>\n",
       "      <td>Condoms</td>\n",
       "      <td>43</td>\n",
       "      <td>0</td>\n",
       "    </tr>\n",
       "    <tr>\n",
       "      <th>1186</th>\n",
       "      <td>['dri', 'quick', 'leav', 'sticki', 'feel', 'st...</td>\n",
       "      <td>11/27/2021</td>\n",
       "      <td>SKYN</td>\n",
       "      <td>Sex Lubricants</td>\n",
       "      <td>10</td>\n",
       "      <td>0</td>\n",
       "    </tr>\n",
       "    <tr>\n",
       "      <th>743</th>\n",
       "      <td>['perfectli', 'fine', 'condom', \"'re\", 'suppos...</td>\n",
       "      <td>4/16/2022</td>\n",
       "      <td>SKYN</td>\n",
       "      <td>Condoms</td>\n",
       "      <td>22</td>\n",
       "      <td>0</td>\n",
       "    </tr>\n",
       "    <tr>\n",
       "      <th>234</th>\n",
       "      <td>['feel', 'stud', 'thick', 'cheap', 'feel']</td>\n",
       "      <td>9/17/2022</td>\n",
       "      <td>SKYN</td>\n",
       "      <td>Condoms</td>\n",
       "      <td>5</td>\n",
       "      <td>0</td>\n",
       "    </tr>\n",
       "  </tbody>\n",
       "</table>\n",
       "</div>"
      ],
      "text/plain": [
       "                                        review_breakout week_ending Brand  \\\n",
       "95    ['seriou', 'infect', 'use', 'go', 'doctor', 'b...  10/22/2022  SKYN   \n",
       "865   ['debería', 'un', 'poco', 'má', 'ancho', 'larg...   3/12/2022  SKYN   \n",
       "1186  ['dri', 'quick', 'leav', 'sticki', 'feel', 'st...  11/27/2021  SKYN   \n",
       "743   ['perfectli', 'fine', 'condom', \"'re\", 'suppos...   4/16/2022  SKYN   \n",
       "234          ['feel', 'stud', 'thick', 'cheap', 'feel']   9/17/2022  SKYN   \n",
       "\n",
       "         Subcategory  review_length  target  \n",
       "95           Condoms             12       0  \n",
       "865          Condoms             43       0  \n",
       "1186  Sex Lubricants             10       0  \n",
       "743          Condoms             22       0  \n",
       "234          Condoms              5       0  "
      ]
     },
     "execution_count": 8,
     "metadata": {},
     "output_type": "execute_result"
    }
   ],
   "source": [
    "# upsample minority\n",
    "negative_upsampled = resample(negative_review,\n",
    "                          replace=True, # sample with replacement\n",
    "                          n_samples=len(positive_review), # match number in majority class\n",
    "                          random_state=23) # reproducible results\n",
    "negative_upsampled.head()"
   ]
  },
  {
   "cell_type": "code",
   "execution_count": 9,
   "id": "8b87e5c4",
   "metadata": {},
   "outputs": [],
   "source": [
    "# upsample minority\n",
    "def upsample(minority):\n",
    "    df= resample(minority,replace=True, # sample with replacement\n",
    "                  n_samples=len(rating_5), # match number in majority class\n",
    "                   random_state=23) # reproducible results\n",
    "    return df"
   ]
  },
  {
   "cell_type": "code",
   "execution_count": 10,
   "id": "a9f60343",
   "metadata": {},
   "outputs": [
    {
     "data": {
      "text/plain": [
       "1    696\n",
       "0    696\n",
       "Name: target, dtype: int64"
      ]
     },
     "execution_count": 10,
     "metadata": {},
     "output_type": "execute_result"
    }
   ],
   "source": [
    "# combine majority and upsampled minority\n",
    "upsampled= pd.concat([positive_review, negative_upsampled])\n",
    "\n",
    "# check new class counts\n",
    "upsampled.target.value_counts()"
   ]
  },
  {
   "cell_type": "code",
   "execution_count": 11,
   "id": "465d6fc3",
   "metadata": {},
   "outputs": [],
   "source": [
    "y_train = upsampled.target\n",
    "x_train = upsampled.drop('target', axis=1)"
   ]
  },
  {
   "cell_type": "code",
   "execution_count": 12,
   "id": "7733fbb4",
   "metadata": {},
   "outputs": [
    {
     "data": {
      "text/html": [
       "<div>\n",
       "<style scoped>\n",
       "    .dataframe tbody tr th:only-of-type {\n",
       "        vertical-align: middle;\n",
       "    }\n",
       "\n",
       "    .dataframe tbody tr th {\n",
       "        vertical-align: top;\n",
       "    }\n",
       "\n",
       "    .dataframe thead th {\n",
       "        text-align: right;\n",
       "    }\n",
       "</style>\n",
       "<table border=\"1\" class=\"dataframe\">\n",
       "  <thead>\n",
       "    <tr style=\"text-align: right;\">\n",
       "      <th></th>\n",
       "      <th>review_breakout</th>\n",
       "      <th>week_ending</th>\n",
       "      <th>Brand</th>\n",
       "      <th>Subcategory</th>\n",
       "      <th>review_length</th>\n",
       "    </tr>\n",
       "  </thead>\n",
       "  <tbody>\n",
       "    <tr>\n",
       "      <th>270</th>\n",
       "      <td>['realli', 'good', 'get', 'amaz']</td>\n",
       "      <td>9/3/2022</td>\n",
       "      <td>SKYN</td>\n",
       "      <td>Condoms</td>\n",
       "      <td>4</td>\n",
       "    </tr>\n",
       "    <tr>\n",
       "      <th>254</th>\n",
       "      <td>['yeah', 'excus', 'man', 'wear', 'thing', 'lov...</td>\n",
       "      <td>9/10/2022</td>\n",
       "      <td>SKYN</td>\n",
       "      <td>Condoms</td>\n",
       "      <td>8</td>\n",
       "    </tr>\n",
       "    <tr>\n",
       "      <th>58</th>\n",
       "      <td>['latex']</td>\n",
       "      <td>10/29/2022</td>\n",
       "      <td>SKYN</td>\n",
       "      <td>Condoms</td>\n",
       "      <td>1</td>\n",
       "    </tr>\n",
       "    <tr>\n",
       "      <th>869</th>\n",
       "      <td>['feel', 'real', 'thing', 'work', 'advertis']</td>\n",
       "      <td>3/5/2022</td>\n",
       "      <td>SKYN</td>\n",
       "      <td>Condoms</td>\n",
       "      <td>5</td>\n",
       "    </tr>\n",
       "    <tr>\n",
       "      <th>390</th>\n",
       "      <td>['feel', 'smooth', 'thin', 'smooth']</td>\n",
       "      <td>8/6/2022</td>\n",
       "      <td>SKYN</td>\n",
       "      <td>Condoms</td>\n",
       "      <td>4</td>\n",
       "    </tr>\n",
       "  </tbody>\n",
       "</table>\n",
       "</div>"
      ],
      "text/plain": [
       "                                       review_breakout week_ending Brand  \\\n",
       "270                  ['realli', 'good', 'get', 'amaz']    9/3/2022  SKYN   \n",
       "254  ['yeah', 'excus', 'man', 'wear', 'thing', 'lov...   9/10/2022  SKYN   \n",
       "58                                           ['latex']  10/29/2022  SKYN   \n",
       "869      ['feel', 'real', 'thing', 'work', 'advertis']    3/5/2022  SKYN   \n",
       "390               ['feel', 'smooth', 'thin', 'smooth']    8/6/2022  SKYN   \n",
       "\n",
       "    Subcategory  review_length  \n",
       "270     Condoms              4  \n",
       "254     Condoms              8  \n",
       "58      Condoms              1  \n",
       "869     Condoms              5  \n",
       "390     Condoms              4  "
      ]
     },
     "execution_count": 12,
     "metadata": {},
     "output_type": "execute_result"
    }
   ],
   "source": [
    "x_train.head()"
   ]
  },
  {
   "cell_type": "code",
   "execution_count": 13,
   "id": "5399deaf",
   "metadata": {},
   "outputs": [],
   "source": [
    "from sklearn.feature_extraction.text import TfidfVectorizer\n",
    "# Create feature vectors\n",
    "vectorizer = TfidfVectorizer(min_df = 5,\n",
    "                             max_df = 0.8,\n",
    "                             sublinear_tf = True,\n",
    "                             use_idf = True)\n",
    "train_vectors = vectorizer.fit_transform(x_train['review_breakout'])\n",
    "test_vectors = vectorizer.transform(x_test['review_breakout'])\n",
    "#train_vectors.size\n",
    "#test_vectors.size"
   ]
  },
  {
   "cell_type": "code",
   "execution_count": 14,
   "id": "f39946a9",
   "metadata": {},
   "outputs": [
    {
     "name": "stdout",
     "output_type": "stream",
     "text": [
      "Training time: 0.095185s; Prediction time: 0.009969s\n",
      "{'0': {'precision': 0.7073170731707317, 'recall': 0.7341772151898734, 'f1-score': 0.7204968944099378, 'support': 79}, '1': {'precision': 0.8719512195121951, 'recall': 0.8562874251497006, 'f1-score': 0.8640483383685801, 'support': 167}, 'accuracy': 0.8170731707317073, 'macro avg': {'precision': 0.7896341463414633, 'recall': 0.7952323201697871, 'f1-score': 0.7922726163892589, 'support': 246}, 'weighted avg': {'precision': 0.8190809042236764, 'recall': 0.8170731707317073, 'f1-score': 0.817948484414382, 'support': 246}}\n",
      "\n",
      "\n",
      "positive:  {'precision': 0.8719512195121951, 'recall': 0.8562874251497006, 'f1-score': 0.8640483383685801, 'support': 167}\n",
      "\n",
      "\n",
      "negative:  {'precision': 0.7073170731707317, 'recall': 0.7341772151898734, 'f1-score': 0.7204968944099378, 'support': 79}\n"
     ]
    }
   ],
   "source": [
    "import time\n",
    "from sklearn import svm\n",
    "from sklearn.metrics import classification_report\n",
    "# Perform classification with SVM, kernel=linear\n",
    "classifier_linear = svm.SVC(kernel='linear')\n",
    "t0 = time.time()\n",
    "classifier_linear.fit(train_vectors,y_train)\n",
    "t1 = time.time()\n",
    "prediction_linear = classifier_linear.predict(test_vectors)\n",
    "t2 = time.time()\n",
    "time_linear_train = t1-t0\n",
    "time_linear_predict = t2-t1\n",
    "# results\n",
    "print(\"Training time: %fs; Prediction time: %fs\" % (time_linear_train, time_linear_predict))\n",
    "report = classification_report(y_test, prediction_linear, output_dict=True)\n",
    "print(report)\n",
    "print(\"\\n\")\n",
    "print('positive: ', report['1'])\n",
    "print(\"\\n\")\n",
    "print('negative: ', report['0'])"
   ]
  },
  {
   "cell_type": "code",
   "execution_count": 15,
   "id": "95c72e2c",
   "metadata": {},
   "outputs": [
    {
     "name": "stdout",
     "output_type": "stream",
     "text": [
      "[1]\n"
     ]
    }
   ],
   "source": [
    "review = \"\"\"SUPERB, I AM IN LOVE\"\"\"\n",
    "review_vector = vectorizer.transform([review]) # vectorizing\n",
    "print(classifier_linear.predict(review_vector))"
   ]
  },
  {
   "cell_type": "code",
   "execution_count": 16,
   "id": "8cf9fc40",
   "metadata": {},
   "outputs": [
    {
     "name": "stdout",
     "output_type": "stream",
     "text": [
      "[0]\n"
     ]
    }
   ],
   "source": [
    "review = \"\"\"do not\"\"\"\n",
    "review_vector = vectorizer.transform([review]) # vectorizing\n",
    "print(classifier_linear.predict(review_vector))"
   ]
  },
  {
   "cell_type": "code",
   "execution_count": null,
   "id": "525ff287",
   "metadata": {},
   "outputs": [],
   "source": []
  }
 ],
 "metadata": {
  "kernelspec": {
   "display_name": "Python 3",
   "language": "python",
   "name": "python3"
  },
  "language_info": {
   "codemirror_mode": {
    "name": "ipython",
    "version": 3
   },
   "file_extension": ".py",
   "mimetype": "text/x-python",
   "name": "python",
   "nbconvert_exporter": "python",
   "pygments_lexer": "ipython3",
   "version": "3.8.15"
  }
 },
 "nbformat": 4,
 "nbformat_minor": 5
}
